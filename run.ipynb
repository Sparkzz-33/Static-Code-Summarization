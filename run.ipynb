{
 "cells": [
  {
   "cell_type": "code",
   "execution_count": 1,
   "metadata": {},
   "outputs": [
    {
     "name": "stderr",
     "output_type": "stream",
     "text": [
      "Using TensorFlow backend.\n"
     ]
    }
   ],
   "source": [
    "from attention import AttentionLayer\n",
    "from contraction_mapping import *\n",
    "\n",
    "\n",
    "import numpy as np  \n",
    "import pandas as pd \n",
    "import re           \n",
    "from bs4 import BeautifulSoup \n",
    "from keras.preprocessing.text import Tokenizer \n",
    "from keras.preprocessing.sequence import pad_sequences\n",
    "from nltk.corpus import stopwords   \n",
    "from tensorflow.keras.layers import Input, LSTM, Embedding, Dense, Concatenate, TimeDistributed, Bidirectional\n",
    "from tensorflow.keras.models import Model\n",
    "from tensorflow.keras.callbacks import EarlyStopping\n",
    "import warnings\n",
    "pd.set_option(\"display.max_colwidth\", 200)\n",
    "warnings.filterwarnings(\"ignore\")\n",
    "\n",
    "\n"
   ]
  },
  {
   "cell_type": "code",
   "execution_count": 2,
   "metadata": {},
   "outputs": [],
   "source": [
    "f = open('training_dataset/train.ast.src', 'r')\n",
    "code_data = []\n",
    "for i in range(5000):\n",
    "    input_data = str(f.readline())\n",
    "    code_data.append(input_data)\n",
    "f.close()\n",
    "\n",
    "\n",
    "stop_words = set(stopwords.words('english'))\n",
    "stop_words.remove('if')\n",
    "stop_words.remove('for')\n",
    "stop_words.remove('this')\n",
    "\n",
    "\n",
    "f = open('training_dataset/train.txt.tgt', 'r')\n",
    "summary_data = []\n",
    "for i in range(5000):\n",
    "    input_data = str(f.readline())\n",
    "    summary_data.append(input_data)\n",
    "f.close()\n",
    "\n"
   ]
  },
  {
   "cell_type": "code",
   "execution_count": 3,
   "metadata": {},
   "outputs": [],
   "source": [
    "def summary_cleaner(text):\n",
    "    newString = re.sub('\"','', text)\n",
    "    newString = ' '.join([contraction_mapping[t] if t in contraction_mapping else t for t in newString.split(\" \")])    \n",
    "    newString = re.sub(r\"'s\\b\",\"\",newString)\n",
    "    newString = re.sub(\"[^a-zA-Z]\", \" \", newString)\n",
    "    newString = newString.lower()\n",
    "    tokens=newString.split()\n",
    "    newString=''\n",
    "    for i in tokens:\n",
    "        if len(i)>1:                                 \n",
    "            newString=newString+i+' '  \n",
    "    return newString"
   ]
  },
  {
   "cell_type": "code",
   "execution_count": 4,
   "metadata": {},
   "outputs": [],
   "source": [
    "cleaned_summary = []\n",
    "for t in summary_data:\n",
    "    cleaned_summary.append(summary_cleaner(t))\n",
    "\n",
    "for i in range(len(cleaned_summary)):\n",
    "    cleaned_summary[i] = '_START_ '+ cleaned_summary[i] + ' _END_'\n",
    "\n",
    "# print(cleaned_summary[23])"
   ]
  },
  {
   "cell_type": "code",
   "execution_count": 5,
   "metadata": {},
   "outputs": [
    {
     "name": "stdout",
     "output_type": "stream",
     "text": [
      "622\n"
     ]
    },
    {
     "data": {
      "image/png": "[encoded data removed]",
      "text/plain": [
       "<Figure size 432x288 with 2 Axes>"
      ]
     },
     "metadata": {
      "needs_background": "light"
     },
     "output_type": "display_data"
    }
   ],
   "source": [
    "import matplotlib.pyplot as plt\n",
    "text_word_count = []\n",
    "summary_word_count = []\n",
    "\n",
    "print(len(code_data[1000]))\n",
    "\n",
    "for i in code_data:\n",
    "    text_word_count.append(len(i.split()))\n",
    "\n",
    "for i in cleaned_summary:\n",
    "    summary_word_count.append(len(i.split()))\n",
    "\n",
    "length_df = pd.DataFrame({'text':text_word_count, 'summary':summary_word_count})\n",
    "length_df.to_csv('length_data.csv')\n",
    "length_df.hist(bins = 30)\n",
    "plt.show()"
   ]
  },
  {
   "cell_type": "code",
   "execution_count": 6,
   "metadata": {},
   "outputs": [],
   "source": [
    "max_len_text = 300\n",
    "max_len_summary = 40\n",
    "\n",
    "from sklearn.model_selection import train_test_split\n",
    "x_tr,x_val,y_tr,y_val=train_test_split(code_data, cleaned_summary, test_size=0.1, random_state=0, shuffle=True) \n",
    "\n"
   ]
  },
  {
   "cell_type": "code",
   "execution_count": 7,
   "metadata": {},
   "outputs": [],
   "source": [
    "x_tokenizer = Tokenizer()\n",
    "x_tokenizer.fit_on_texts(list(x_tr))\n",
    "\n",
    "#convert text sequences into integer sequences\n",
    "x_tr    =   x_tokenizer.texts_to_sequences(x_tr) \n",
    "x_val   =   x_tokenizer.texts_to_sequences(x_val)\n",
    "\n",
    "#padding zero upto maximum length\n",
    "x_tr    =   pad_sequences(x_tr,  maxlen=max_len_text, padding='post') \n",
    "x_val   =   pad_sequences(x_val, maxlen=max_len_text, padding='post')\n",
    "\n",
    "x_voc_size   =  len(x_tokenizer.word_index) +1\n",
    "\n",
    "y_tokenizer = Tokenizer()\n",
    "y_tokenizer.fit_on_texts(list(y_tr))\n",
    "\n",
    "#convert summary sequences into integer sequences\n",
    "y_tr    =   y_tokenizer.texts_to_sequences(y_tr) \n",
    "y_val   =   y_tokenizer.texts_to_sequences(y_val) \n",
    "\n",
    "#padding zero upto maximum length\n",
    "y_tr    =   pad_sequences(y_tr, maxlen=max_len_summary, padding='post')\n",
    "y_val   =   pad_sequences(y_val, maxlen=max_len_summary, padding='post')\n",
    "\n",
    "y_voc_size  =   len(y_tokenizer.word_index) +1"
   ]
  },
  {
   "cell_type": "code",
   "execution_count": 8,
   "metadata": {},
   "outputs": [],
   "source": [
    "from keras import backend as K \n",
    "K.clear_session() \n",
    "latent_dim = 20\n",
    "\n"
   ]
  },
  {
   "cell_type": "code",
   "execution_count": 9,
   "metadata": {},
   "outputs": [],
   "source": [
    "# Encoder attempt with 3 LSTM layers\n",
    "encoder_inputs = Input(shape=(max_len_text,)) \n",
    "enc_emb = Embedding(x_voc_size, latent_dim,trainable=True)(encoder_inputs) \n",
    "\n",
    "#LSTM 1 \n",
    "encoder_lstm1 = LSTM(latent_dim,return_sequences=True,return_state=True) \n",
    "encoder_output1, state_h1, state_c1 = encoder_lstm1(enc_emb) \n",
    "\n",
    "#LSTM 2 \n",
    "encoder_lstm2 = LSTM(latent_dim,return_sequences=True,return_state=True) \n",
    "encoder_output2, state_h2, state_c2 = encoder_lstm2(encoder_output1) \n",
    "\n",
    "#LSTM 3 \n",
    "encoder_lstm3=LSTM(latent_dim, return_state=True, return_sequences=True) \n",
    "encoder_outputs, state_h, state_c= encoder_lstm3(encoder_output2)"
   ]
  },
  {
   "cell_type": "code",
   "execution_count": 10,
   "metadata": {},
   "outputs": [
    {
     "name": "stdout",
     "output_type": "stream",
     "text": [
      "Model: \"model\"\n",
      "__________________________________________________________________________________________________\n",
      "Layer (type)                    Output Shape         Param #     Connected to                     \n",
      "==================================================================================================\n",
      "input_1 (InputLayer)            [(None, 300)]        0                                            \n",
      "__________________________________________________________________________________________________\n",
      "embedding (Embedding)           (None, 300, 20)      353560      input_1[0][0]                    \n",
      "__________________________________________________________________________________________________\n",
      "lstm (LSTM)                     [(None, 300, 20), (N 3280        embedding[0][0]                  \n",
      "__________________________________________________________________________________________________\n",
      "input_2 (InputLayer)            [(None, None)]       0                                            \n",
      "__________________________________________________________________________________________________\n",
      "lstm_1 (LSTM)                   [(None, 300, 20), (N 3280        lstm[0][0]                       \n",
      "__________________________________________________________________________________________________\n",
      "embedding_1 (Embedding)         (None, None, 20)     107460      input_2[0][0]                    \n",
      "__________________________________________________________________________________________________\n",
      "lstm_2 (LSTM)                   [(None, 300, 20), (N 3280        lstm_1[0][0]                     \n",
      "__________________________________________________________________________________________________\n",
      "lstm_3 (LSTM)                   [(None, None, 20), ( 3280        embedding_1[0][0]                \n",
      "                                                                 lstm_2[0][1]                     \n",
      "                                                                 lstm_2[0][2]                     \n",
      "__________________________________________________________________________________________________\n",
      "attention_layer (AttentionLayer ((None, None, 20), ( 820         lstm_2[0][0]                     \n",
      "                                                                 lstm_3[0][0]                     \n",
      "__________________________________________________________________________________________________\n",
      "concat_layer (Concatenate)      (None, None, 40)     0           lstm_3[0][0]                     \n",
      "                                                                 attention_layer[0][0]            \n",
      "__________________________________________________________________________________________________\n",
      "time_distributed (TimeDistribut (None, None, 5373)   220293      concat_layer[0][0]               \n",
      "==================================================================================================\n",
      "Total params: 695,253\n",
      "Trainable params: 695,253\n",
      "Non-trainable params: 0\n",
      "__________________________________________________________________________________________________\n"
     ]
    }
   ],
   "source": [
    "#Decoder\n",
    "decoder_inputs = Input(shape=(None,)) \n",
    "dec_emb_layer = Embedding(y_voc_size, latent_dim,trainable=True) \n",
    "dec_emb = dec_emb_layer(decoder_inputs) \n",
    "\n",
    "#LSTM using encoder_states as initial state\n",
    "decoder_lstm = LSTM(latent_dim, return_sequences=True, return_state=True) \n",
    "decoder_outputs,decoder_fwd_state, decoder_back_state = decoder_lstm(dec_emb,initial_state=[state_h, state_c]) \n",
    "\n",
    "#Attention Layer\n",
    "attn_layer = AttentionLayer(name='attention_layer') \n",
    "attn_out, attn_states = attn_layer([encoder_outputs, decoder_outputs]) \n",
    "\n",
    "# Concat attention output and decoder LSTM output \n",
    "decoder_concat_input = Concatenate(axis=-1, name='concat_layer')([decoder_outputs, attn_out])\n",
    "\n",
    "#Dense layer\n",
    "decoder_dense = TimeDistributed(Dense(y_voc_size, activation='softmax')) \n",
    "decoder_outputs = decoder_dense(decoder_concat_input) \n",
    "\n",
    "# Define the model\n",
    "model = Model([encoder_inputs, decoder_inputs], decoder_outputs) \n",
    "model.summary()"
   ]
  },
  {
   "cell_type": "code",
   "execution_count": 11,
   "metadata": {},
   "outputs": [],
   "source": [
    "model.compile(optimizer='rmsprop', loss='sparse_categorical_crossentropy')"
   ]
  },
  {
   "cell_type": "code",
   "execution_count": null,
   "metadata": {},
   "outputs": [],
   "source": [
    "es = EarlyStopping(monitor='val_loss', mode='min', verbose=1)\n"
   ]
  },
  {
   "cell_type": "code",
   "execution_count": 16,
   "metadata": {},
   "outputs": [],
   "source": [
    "#convert the index to word for target and source vocabulary\n",
    "reverse_target_word_index=y_tokenizer.index_word \n",
    "reverse_source_word_index=x_tokenizer.index_word \n",
    "target_word_index=y_tokenizer.word_index"
   ]
  },
  {
   "cell_type": "code",
   "execution_count": 17,
   "metadata": {},
   "outputs": [],
   "source": [
    "encoder_model = Model(inputs=encoder_inputs,outputs=[encoder_outputs, state_h, state_c])\n",
    "\n",
    "# decoder inference\n",
    "# Below tensors will hold the states of the previous time step\n",
    "decoder_state_input_h = Input(shape=(latent_dim,))\n",
    "decoder_state_input_c = Input(shape=(latent_dim,))\n",
    "decoder_hidden_state_input = Input(shape=(max_len_text,latent_dim))\n",
    "\n",
    "# Get the embeddings of the decoder sequence\n",
    "dec_emb2= dec_emb_layer(decoder_inputs)\n",
    "\n",
    "# To predict the next word in the sequence, set the initial states to the states from the previous time step\n",
    "decoder_outputs2, state_h2, state_c2 = decoder_lstm(dec_emb2, initial_state=[decoder_state_input_h, decoder_state_input_c])\n",
    "\n",
    "#attention inference\n",
    "attn_out_inf, attn_states_inf = attn_layer([decoder_hidden_state_input, decoder_outputs2])\n",
    "decoder_inf_concat = Concatenate(axis=-1, name='concat')([decoder_outputs2, attn_out_inf])\n",
    "\n",
    "# A dense softmax layer to generate prob dist. over the target vocabulary\n",
    "decoder_outputs2 = decoder_dense(decoder_inf_concat)\n",
    "\n",
    "# Final decoder model\n",
    "decoder_model = Model(\n",
    "[decoder_inputs] + [decoder_hidden_state_input,decoder_state_input_h, decoder_state_input_c],\n",
    "[decoder_outputs2] + [state_h2, state_c2])"
   ]
  },
  {
   "cell_type": "code",
   "execution_count": 21,
   "metadata": {},
   "outputs": [],
   "source": [
    "def decode_sequence(input_seq):\n",
    "    # Encode the input as state vectors.\n",
    "    e_out, e_h, e_c = encoder_model.predict(input_seq)\n",
    "\n",
    "    # Generate empty target sequence of length 1.\n",
    "    target_seq = np.zeros((1,1))\n",
    "\n",
    "    # Chose the 'start' word as the first word of the target sequence\n",
    "    target_seq[0, 0] = target_word_index['start']\n",
    "\n",
    "    stop_condition = False\n",
    "    decoded_sentence = ''\n",
    "    while not stop_condition:\n",
    "        output_tokens, h, c = decoder_model.predict([target_seq] + [e_out, e_h, e_c])\n",
    "\n",
    "        # Sample a token\n",
    "        sampled_token_index = np.argmax(output_tokens[0, -1, :])\n",
    "        sampled_token = reverse_target_word_index[sampled_token_index]\n",
    "\n",
    "        if(sampled_token!='end'):\n",
    "            decoded_sentence += ' '+sampled_token\n",
    "\n",
    "        # Exit condition: either hit max length or find stop word.\n",
    "        if (sampled_token == 'end' or len(decoded_sentence.split()) >= (max_len_summary-1)):\n",
    "            stop_condition = True\n",
    "\n",
    "        # Update the target sequence (of length 1).\n",
    "        target_seq = np.zeros((1,1))\n",
    "        target_seq[0, 0] = sampled_token_index\n",
    "\n",
    "        # Update internal states\n",
    "        e_h, e_c = h, c\n",
    "\n",
    "    return decoded_sentence"
   ]
  },
  {
   "cell_type": "code",
   "execution_count": 22,
   "metadata": {},
   "outputs": [],
   "source": [
    "def seq2summary(input_seq):\n",
    "    newString=''\n",
    "    for i in input_seq:\n",
    "      if((i!=0 and i!=target_word_index['start']) and i!=target_word_index['end']):\n",
    "        newString=newString+reverse_target_word_index[i]+' '\n",
    "    return newString\n",
    "\n",
    "def seq2text(input_seq):\n",
    "    newString=''\n",
    "    for i in input_seq:\n",
    "      if(i!=0):\n",
    "        newString=newString+reverse_source_word_index[i]+' '\n",
    "    return newString"
   ]
  },
  {
   "cell_type": "code",
   "execution_count": 23,
   "metadata": {},
   "outputs": [
    {
     "name": "stdout",
     "output_type": "stream",
     "text": [
      "Review: module functiondef is arguments if boolop or compare attribute user agent name request is name none compare attribute browser attribute user agent name request noteq str compare attribute version attribute user agent name request is name none return name false assign name version call name tuple call name map name int call attribute split attribute version attribute user agent name request str return compare tuple num num lte lt name version tuple num num \n",
      "Original summary: returns true if and only if the user agent of the client making the request indicates that it is microsoft internet or \n",
      "Predicted summary:  stringify stringify reduces statsd third safe safe properly blog scrolled positions with cdouble hiearchy stemmers cdouble vcpus subscribes querys largest evasion inner vms sends annotation stringify stringify sklearn layer book workflows workflows unpickling blog subdirectories grids grids grids grids\n",
      "\n",
      "\n",
      "Review: module functiondef get disk arguments name hardware devices param name uuid param if compare attribute name attribute class name hardware devices eq str arrayofvirtualdevice assign name hardware devices attribute virtualdevice name hardware devices for name device name hardware devices if boolop and compare attribute name attribute class name device eq str virtualdisk compare attribute name attribute class attribute backing name device eq str compare attribute attribute backing name device eq name uuid return name device \n",
      "Original summary: gets the disk key \n",
      "Predicted summary:  stringify stringify reduces statsd unstable rhel instances approach response collected wrapper collected observer capped rotate rotate subscribes authenticated machinery authenticated machinery unpickles ways machinery ways pages pages processors joining back third safe safe escapes previously floor truncation response raising\n",
      "\n",
      "\n",
      "Review: module functiondef arguments name pattern param name repl param name string param name count param name flags param num num return call attribute call name compile name pattern name flags name repl name string name count \n",
      "Original summary: return tuple containing \n",
      "Predicted summary:  stringify stringify reduces statsd unstable rhel rhel instances jacobian rhel response subdirectories scrolled vserver execution dkl mises metric excel tessellates vincent cmyk unavailable successive strategy successive strategy invalidates invalidates invalidates leave blanks affiliations pythonpath disk eqns minimised navigation environment\n",
      "\n",
      "\n",
      "Review: module functiondef human resource arguments return call attribute hrm human resource controller name s3db \n",
      "Original summary: controller staff used for summary view \n",
      "Predicted summary:  stringify stringify reduces statsd unstable rhel rhel instances jacobian rhel response subdirectories scrolled vserver execution dkl mises metric excel tessellates vincent cmyk unavailable successive successive unescape generic invalidates invalidates leave blanks workers housing housing recon housing housing detach recon\n",
      "\n",
      "\n",
      "Review: module functiondef fake spawn arguments assign name greenlets list functiondef inner fake spawn arguments a name func param assign name gt call attribute spawn name greenthread name func name a name kw expr call attribute append name greenlets name gt return name gt assign attribute spawn name object server name inner fake spawn with call attribute patch name mock str swift obj server spawn name inner fake spawn tryfinally expr yield for name gt name greenlets expr call attribute wait name gt name contextmanager \n",
      "Original summary: spawn and the result so we can wait on it \n",
      "Predicted summary:  stringify stringify reduces statsd unstable rhel instances approach response collected wrapper collected observer rotate rotate subscribes hiearchy machinery machinery unpickles ways ways ordering metric invalidates import import standalone white vserver method eqns introduce removed unescape gid invalidates invalidates leave\n",
      "\n",
      "\n",
      "Review: module functiondef build upgrade request arguments name web socket url param name extra headers param name web socket version param name origin param name none name default protocol version name none assign name request headers call name headers assign subscript name request headers index str sec websocket key call name gen sec key for tuple name key name value call attribute items name websocket upgrade headers assign subscript name request headers index name key name value if compare name extra headers isnot name none for tuple name key name value name extra headers assign subscript name request headers index name key name value assign subscript name request headers index str sec websocket version call name str name web socket version if compare name origin isnot name none assign subscript name request headers index str origin name origin assign name scheme ifexp compare str in name web socket url str https str http assign name args tuple name scheme call attribute get domain name web socket url assign subscript name request headers index str origin binop str s s mod name args assign name forged url call attribute replace attribute url string name web socket url str str https num assign name forged url call attribute replace name forged url str str http num assign name forged url call name url name forged url assign name upgrade request call name fuzzablerequest name forged url str get keyword headers name request headers return name upgrade request \n",
      "Original summary: create get request with the required http headers to upgrade to web sockets \n",
      "Predicted summary:  stringify stringify stdout specification stdout validated validated photo modifier then utf lag plotly terms bags modifier hiearchy zoom backslashes grayscale remote maskedarray bridge small small scargle small scargle visualization box good properties visualization box strict distro sampleproject distro snowball\n",
      "\n",
      "\n",
      "Review: module functiondef get location arguments name vm param name none return call attribute get name opts str location call attribute get cloud config value name config str location boolop or name vm call name get configured provider name opts keyword default name default location keyword search global name false \n",
      "Original summary: return the data center to use \n",
      "Predicted summary:  stringify stringify reduces statsd unstable rhel rhel instances scrolled leaks netrc rhel rhel instances rhel instances lists reduces response rewrite zoom takes subdirectories nbsvm options vmware preprocessing objects extracted extracted hiearchy boundaries labels laplace guest guest pressure pda blog\n",
      "\n",
      "\n",
      "Review: module functiondef arguments name filename param name param assign name outfile call name open name filename str wb for name bt name expr call attribute write name outfile name bt \n",
      "Original summary: convenience for emitting the bytes we generate to file \n",
      "Predicted summary:  stringify stringify reduces statsd unstable rhel rhel instances jacobian rhel response subdirectories scrolled vserver execution dkl mises metric excel tessellates vincent cmyk unavailable successive strategy strategy invalidates invalidates invalidates leave blanks affiliations pythonpath disk eqns folders fixture rotate pda\n",
      "\n",
      "\n",
      "Review: module functiondef arguments name param assign name list for name call attribute values name augassign name add name return name \n",
      "Original summary: get all the element in list table \n",
      "Predicted summary:  stringify stringify reduces statsd unstable rhel rhel instances jacobian rhel response subdirectories scrolled vserver execution dkl mises metric excel tessellates vincent cmyk unavailable successive strategy successive strategy invalidates invalidates invalidates leave blanks affiliations pythonpath disk eqns fixture rotate invalidates\n",
      "\n",
      "\n",
      "Review: module functiondef short token arguments assign name hash call attribute sha1 name hashlib call attribute uuid name expr call attribute update name hash attribute secret key name settings return subscript call attribute hexdigest name hash slice num \n",
      "Original summary: generate hash that can be used as an application identifier \n",
      "Predicted summary:  stringify stringify reduces statsd unstable rhel rhel instances jacobian rhel response subdirectories scrolled vserver execution dkl mises metric successive unescape allows tkinter generic invalidates inversed objects extracted invalidates unhelpful unhelpful capped rhel fairly fairly preconditioned billingpos billingpos lomb scheme\n",
      "\n",
      "\n"
     ]
    }
   ],
   "source": [
    "for i in range(10):\n",
    "  print(\"Review:\",seq2text(x_val[i]))\n",
    "  print(\"Original summary:\",seq2summary(y_val[i]))\n",
    "  print(\"Predicted summary:\",decode_sequence(x_val[i].reshape(1,max_len_text)))\n",
    "  print(\"\\n\")"
   ]
  },
  {
   "cell_type": "code",
   "execution_count": null,
   "metadata": {},
   "outputs": [],
   "source": []
  }
 ],
 "metadata": {
  "kernelspec": {
   "display_name": "Python 3",
   "language": "python",
   "name": "python3"
  },
  "language_info": {
   "codemirror_mode": {
    "name": "ipython",
    "version": 3
   },
   "file_extension": ".py",
   "mimetype": "text/x-python",
   "name": "python",
   "nbconvert_exporter": "python",
   "pygments_lexer": "ipython3",
   "version": "3.7.6"
  }
 },
 "nbformat": 4,
 "nbformat_minor": 4
}
